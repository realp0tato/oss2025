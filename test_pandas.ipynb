{
  "nbformat": 4,
  "nbformat_minor": 0,
  "metadata": {
    "colab": {
      "provenance": [],
      "toc_visible": true,
      "mount_file_id": "1M0dg0GsUlvZhbYI6nwaFBZf2p3cRlQzT",
      "authorship_tag": "ABX9TyN9CRtWOC51hLhmm55XQrQZ",
      "include_colab_link": true
    },
    "kernelspec": {
      "name": "python3",
      "display_name": "Python 3"
    },
    "language_info": {
      "name": "python"
    }
  },
  "cells": [
    {
      "cell_type": "markdown",
      "metadata": {
        "id": "view-in-github",
        "colab_type": "text"
      },
      "source": [
        "<a href=\"https://colab.research.google.com/github/realp0tato/oss2025/blob/main/test_pandas.ipynb\" target=\"_parent\"><img src=\"https://colab.research.google.com/assets/colab-badge.svg\" alt=\"Open In Colab\"/></a>"
      ]
    },
    {
      "cell_type": "code",
      "execution_count": 3,
      "metadata": {
        "colab": {
          "base_uri": "https://localhost:8080/"
        },
        "id": "Tt7GvjEmAVM8",
        "outputId": "516c961c-86e3-4b28-c199-8d90e7f397b2"
      },
      "outputs": [
        {
          "output_type": "stream",
          "name": "stdout",
          "text": [
            "            누적주행거리값     구분배기량\n",
            "min      100.000000   180.000\n",
            "max   250626.000000  2999.000\n",
            "mean   38927.093333  1846.625\n"
          ]
        }
      ],
      "source": [
        "# prompt: /content/car_information.csv 이 데이터에서 누적주행거리값의 최대, 최소, 평균이랑 구분배기량의 최대, 최소, 평균을 표로 나타내줘\n",
        "\n",
        "import pandas as pd\n",
        "\n",
        "# CSV 파일 경로\n",
        "file_path = '/content/car_information.csv'\n",
        "\n",
        "try:\n",
        "    # pandas를 사용하여 CSV 파일 읽기\n",
        "    df = pd.read_csv(file_path)\n",
        "\n",
        "    # 누적 주행 거리 통계\n",
        "    distance_stats = df['누적주행거리값'].describe()[['min', 'max', 'mean']]\n",
        "\n",
        "    # 구분 배기량 통계\n",
        "    displacement_stats = df['구분배기량'].describe()[['min', 'max', 'mean']]\n",
        "\n",
        "    # 두 통계를 하나의 데이터프레임으로 합치기\n",
        "    stats_df = pd.concat([distance_stats, displacement_stats], axis=1)\n",
        "\n",
        "    # 컬럼 이름 변경\n",
        "    stats_df = stats_df.rename(\n",
        "        columns={\n",
        "            'min': '최소',\n",
        "            'max': '최대',\n",
        "            'mean': '평균'\n",
        "        }\n",
        "    )\n",
        "\n",
        "    # 결과 출력\n",
        "    print(stats_df)\n",
        "\n",
        "except FileNotFoundError:\n",
        "    print(f\"Error: File not found at {file_path}\")\n",
        "except KeyError as e:\n",
        "    print(f\"Error: Column '{e}' not found in the CSV file.\")\n",
        "except Exception as e:\n",
        "    print(f\"An unexpected error occurred: {e}\")\n"
      ]
    }
  ]
}