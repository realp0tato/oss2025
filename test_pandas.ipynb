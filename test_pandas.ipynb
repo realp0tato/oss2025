{
  "nbformat": 4,
  "nbformat_minor": 0,
  "metadata": {
    "colab": {
      "provenance": [],
      "toc_visible": true,
      "mount_file_id": "1M0dg0GsUlvZhbYI6nwaFBZf2p3cRlQzT",
      "authorship_tag": "ABX9TyMf3NVRgTq3Nx0wYJWcUkLH",
      "include_colab_link": true
    },
    "kernelspec": {
      "name": "python3",
      "display_name": "Python 3"
    },
    "language_info": {
      "name": "python"
    }
  },
  "cells": [
    {
      "cell_type": "markdown",
      "metadata": {
        "id": "view-in-github",
        "colab_type": "text"
      },
      "source": [
        "<a href=\"https://colab.research.google.com/github/realp0tato/oss2025/blob/main/test_pandas.ipynb\" target=\"_parent\"><img src=\"https://colab.research.google.com/assets/colab-badge.svg\" alt=\"Open In Colab\"/></a>"
      ]
    },
    {
      "cell_type": "code",
      "execution_count": 4,
      "metadata": {
        "colab": {
          "base_uri": "https://localhost:8080/"
        },
        "id": "Tt7GvjEmAVM8",
        "outputId": "ff7e4b52-92b4-4f59-8e6b-cc45b9256277"
      },
      "outputs": [
        {
          "output_type": "stream",
          "name": "stdout",
          "text": [
            "     누적주행거리값   구분배기량\n",
            "최대 250626.00 2999.00\n",
            "최소    100.00  180.00\n",
            "평균  38927.09 1846.62\n"
          ]
        }
      ],
      "source": [
        "# prompt: /content/car_information.csv 이 데이터에서 누적주행거리값의 최대, 최소, 평균이랑 구분배기량의 최대, 최소, 평균을 표로 나타내줘 근데 값을 소수점 2번째 자리에서 반올림해줘\n",
        "\n",
        "import pandas as pd\n",
        "\n",
        "# Load the CSV file into a pandas DataFrame.\n",
        "try:\n",
        "    df = pd.read_csv('/content/car_information.csv')\n",
        "except FileNotFoundError:\n",
        "    print(\"Error: The file '/content/car_information.csv' was not found.\")\n",
        "    exit()\n",
        "\n",
        "\n",
        "# Calculate the statistics for 누적주행거리 and 구분배기량.\n",
        "def calculate_stats(column):\n",
        "    return {\n",
        "        '최대': round(column.max(), 2),\n",
        "        '최소': round(column.min(), 2),\n",
        "        '평균': round(column.mean(), 2),\n",
        "    }\n",
        "\n",
        "누적주행거리값_stats = calculate_stats(df['누적주행거리값'])\n",
        "구분배기량_stats = calculate_stats(df['구분배기량'])\n",
        "\n",
        "\n",
        "# Create a DataFrame for the results.\n",
        "results_df = pd.DataFrame({\n",
        "    '': ['최대', '최소', '평균'],\n",
        "    '누적주행거리값': [누적주행거리값_stats['최대'], 누적주행거리값_stats['최소'], 누적주행거리값_stats['평균']],\n",
        "    '구분배기량': [구분배기량_stats['최대'], 구분배기량_stats['최소'], 구분배기량_stats['평균']]\n",
        "})\n",
        "\n",
        "\n",
        "# Display the results.\n",
        "print(results_df.to_string(index=False))\n"
      ]
    }
  ]
}