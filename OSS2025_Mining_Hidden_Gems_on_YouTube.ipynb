{
  "nbformat": 4,
  "nbformat_minor": 0,
  "metadata": {
    "colab": {
      "provenance": [],
      "include_colab_link": true
    },
    "kernelspec": {
      "name": "python3",
      "display_name": "Python 3"
    },
    "language_info": {
      "name": "python"
    }
  },
  "cells": [
    {
      "cell_type": "markdown",
      "metadata": {
        "id": "view-in-github",
        "colab_type": "text"
      },
      "source": [
        "<a href=\"https://colab.research.google.com/github/realp0tato/oss2025/blob/main/OSS2025_Mining_Hidden_Gems_on_YouTube.ipynb\" target=\"_parent\"><img src=\"https://colab.research.google.com/assets/colab-badge.svg\" alt=\"Open In Colab\"/></a>"
      ]
    },
    {
      "cell_type": "markdown",
      "source": [
        "# Youtube API와 함께하는 핸즈온 튜토리얼\n",
        "Youtube는 No1인 비디오 공유 플랫폼이다. 1억명 사용자들은 수천억시간의 비디오를 소비하고 매분마다 500시간의 컨텐츠가 업로드된다.\n",
        "\n",
        "다양한 형태와 장르의 영상들이 존재한다. 주로 뮤직비디오, 강좌, 버라이어티 쇼, 드라마, 상품 리뷰 등 녹화된 방송들이 게시되기도 한다. 한편, 홈쇼핑, 게이밍 대회 와 같은 영상들은 실시간으로 스트리밍 되기도 한다.\n",
        "\n",
        "빅데이터 4V(Volume, Velocity, Variety, Veracity) 측면에서 Youtube 관련 데이터를 관심있어야하는 이유는 다음과 같다.\n",
        "- Volume: 10억명의 사용자가 생성하고 관람하는 데이터는 엄청나게 많다.\n",
        "- Velocity: 다양한 스트리밍 채널에서 사용자들은 수초내에 수백개의 메시지와 함께 커뮤니케이션 및 보기가 가능하다.\n",
        "- Variety: 동영상 데이터 뿐만 아니라, 구조화된  데이터(통계치, 메타데이터)와 비구조화된 텍스트(채팅, 댓글)들을 다룰 수 있다.\n",
        "- Veracity: Youtube 영상 자체가 특정 사실에 대해 불확실 정보를 포함할 수 있으며, 영상에 대한 정보가 잘못 표기될 수도 있다."
      ],
      "metadata": {
        "id": "pD1XkrsqpUa1"
      }
    },
    {
      "cell_type": "markdown",
      "source": [
        "# 본 튜토리얼의 기본 목표\n",
        "1. Youtube API를 이용하여 영상을 검색하거나 관련된 정보를 수집할 수 있다.\n",
        "2. 수집된 정보로부터 그래프 기반 시각화\n",
        "3. 키워드 분석\n"
      ],
      "metadata": {
        "id": "_1Zy85L01l_f"
      }
    },
    {
      "cell_type": "markdown",
      "source": [
        "Copyright 2023 by datasciencelabs.org\n",
        "\n"
      ],
      "metadata": {
        "id": "-6cXgm03ustU"
      }
    },
    {
      "cell_type": "markdown",
      "source": [
        "# 사전조건\n",
        "1. Youtube API를 활용하기 위해서는 Google API Python Client Library.로부터 API Key를 발급받아야 한다.\n",
        "2. 개인 컴퓨터를 사용하는 경우, 가능한 Linux를 이용해서 설치(install)부분을 설치완료해야한다."
      ],
      "metadata": {
        "id": "CpJsHoSJp_dD"
      }
    },
    {
      "cell_type": "markdown",
      "source": [
        "# 설치하기"
      ],
      "metadata": {
        "id": "IZg3GtyD5T65"
      }
    },
    {
      "cell_type": "markdown",
      "source": [
        "install the google api python client"
      ],
      "metadata": {
        "id": "TKuqfRoeuRc2"
      }
    },
    {
      "cell_type": "code",
      "source": [
        "!pip install google-api-python-client youtube_transcript_api\n",
        "!pip install pyvis\n",
        "!pip install youtube-transcript-api"
      ],
      "metadata": {
        "colab": {
          "base_uri": "https://localhost:8080/"
        },
        "collapsed": true,
        "id": "DOE6HAWIbRuO",
        "outputId": "d981c865-a7ed-4d1a-b085-aabe424598d6"
      },
      "execution_count": 1,
      "outputs": [
        {
          "output_type": "stream",
          "name": "stdout",
          "text": [
            "Requirement already satisfied: google-api-python-client in /usr/local/lib/python3.11/dist-packages (2.164.0)\n",
            "Collecting youtube_transcript_api\n",
            "  Downloading youtube_transcript_api-1.0.3-py3-none-any.whl.metadata (23 kB)\n",
            "Requirement already satisfied: httplib2<1.dev0,>=0.19.0 in /usr/local/lib/python3.11/dist-packages (from google-api-python-client) (0.22.0)\n",
            "Requirement already satisfied: google-auth!=2.24.0,!=2.25.0,<3.0.0.dev0,>=1.32.0 in /usr/local/lib/python3.11/dist-packages (from google-api-python-client) (2.38.0)\n",
            "Requirement already satisfied: google-auth-httplib2<1.0.0,>=0.2.0 in /usr/local/lib/python3.11/dist-packages (from google-api-python-client) (0.2.0)\n",
            "Requirement already satisfied: google-api-core!=2.0.*,!=2.1.*,!=2.2.*,!=2.3.0,<3.0.0.dev0,>=1.31.5 in /usr/local/lib/python3.11/dist-packages (from google-api-python-client) (2.24.2)\n",
            "Requirement already satisfied: uritemplate<5,>=3.0.1 in /usr/local/lib/python3.11/dist-packages (from google-api-python-client) (4.1.1)\n",
            "Requirement already satisfied: defusedxml<0.8.0,>=0.7.1 in /usr/local/lib/python3.11/dist-packages (from youtube_transcript_api) (0.7.1)\n",
            "Requirement already satisfied: requests in /usr/local/lib/python3.11/dist-packages (from youtube_transcript_api) (2.32.3)\n",
            "Requirement already satisfied: googleapis-common-protos<2.0.0,>=1.56.2 in /usr/local/lib/python3.11/dist-packages (from google-api-core!=2.0.*,!=2.1.*,!=2.2.*,!=2.3.0,<3.0.0.dev0,>=1.31.5->google-api-python-client) (1.69.2)\n",
            "Requirement already satisfied: protobuf!=3.20.0,!=3.20.1,!=4.21.0,!=4.21.1,!=4.21.2,!=4.21.3,!=4.21.4,!=4.21.5,<7.0.0,>=3.19.5 in /usr/local/lib/python3.11/dist-packages (from google-api-core!=2.0.*,!=2.1.*,!=2.2.*,!=2.3.0,<3.0.0.dev0,>=1.31.5->google-api-python-client) (5.29.4)\n",
            "Requirement already satisfied: proto-plus<2.0.0,>=1.22.3 in /usr/local/lib/python3.11/dist-packages (from google-api-core!=2.0.*,!=2.1.*,!=2.2.*,!=2.3.0,<3.0.0.dev0,>=1.31.5->google-api-python-client) (1.26.1)\n",
            "Requirement already satisfied: cachetools<6.0,>=2.0.0 in /usr/local/lib/python3.11/dist-packages (from google-auth!=2.24.0,!=2.25.0,<3.0.0.dev0,>=1.32.0->google-api-python-client) (5.5.2)\n",
            "Requirement already satisfied: pyasn1-modules>=0.2.1 in /usr/local/lib/python3.11/dist-packages (from google-auth!=2.24.0,!=2.25.0,<3.0.0.dev0,>=1.32.0->google-api-python-client) (0.4.2)\n",
            "Requirement already satisfied: rsa<5,>=3.1.4 in /usr/local/lib/python3.11/dist-packages (from google-auth!=2.24.0,!=2.25.0,<3.0.0.dev0,>=1.32.0->google-api-python-client) (4.9)\n",
            "Requirement already satisfied: pyparsing!=3.0.0,!=3.0.1,!=3.0.2,!=3.0.3,<4,>=2.4.2 in /usr/local/lib/python3.11/dist-packages (from httplib2<1.dev0,>=0.19.0->google-api-python-client) (3.2.3)\n",
            "Requirement already satisfied: charset-normalizer<4,>=2 in /usr/local/lib/python3.11/dist-packages (from requests->youtube_transcript_api) (3.4.1)\n",
            "Requirement already satisfied: idna<4,>=2.5 in /usr/local/lib/python3.11/dist-packages (from requests->youtube_transcript_api) (3.10)\n",
            "Requirement already satisfied: urllib3<3,>=1.21.1 in /usr/local/lib/python3.11/dist-packages (from requests->youtube_transcript_api) (2.3.0)\n",
            "Requirement already satisfied: certifi>=2017.4.17 in /usr/local/lib/python3.11/dist-packages (from requests->youtube_transcript_api) (2025.1.31)\n",
            "Requirement already satisfied: pyasn1<0.7.0,>=0.6.1 in /usr/local/lib/python3.11/dist-packages (from pyasn1-modules>=0.2.1->google-auth!=2.24.0,!=2.25.0,<3.0.0.dev0,>=1.32.0->google-api-python-client) (0.6.1)\n",
            "Downloading youtube_transcript_api-1.0.3-py3-none-any.whl (2.2 MB)\n",
            "\u001b[2K   \u001b[90m━━━━━━━━━━━━━━━━━━━━━━━━━━━━━━━━━━━━━━━━\u001b[0m \u001b[32m2.2/2.2 MB\u001b[0m \u001b[31m27.0 MB/s\u001b[0m eta \u001b[36m0:00:00\u001b[0m\n",
            "\u001b[?25hInstalling collected packages: youtube_transcript_api\n",
            "Successfully installed youtube_transcript_api-1.0.3\n",
            "Collecting pyvis\n",
            "  Downloading pyvis-0.3.2-py3-none-any.whl.metadata (1.7 kB)\n",
            "Requirement already satisfied: ipython>=5.3.0 in /usr/local/lib/python3.11/dist-packages (from pyvis) (7.34.0)\n",
            "Requirement already satisfied: jinja2>=2.9.6 in /usr/local/lib/python3.11/dist-packages (from pyvis) (3.1.6)\n",
            "Requirement already satisfied: jsonpickle>=1.4.1 in /usr/local/lib/python3.11/dist-packages (from pyvis) (4.0.5)\n",
            "Requirement already satisfied: networkx>=1.11 in /usr/local/lib/python3.11/dist-packages (from pyvis) (3.4.2)\n",
            "Requirement already satisfied: setuptools>=18.5 in /usr/local/lib/python3.11/dist-packages (from ipython>=5.3.0->pyvis) (75.2.0)\n",
            "Collecting jedi>=0.16 (from ipython>=5.3.0->pyvis)\n",
            "  Downloading jedi-0.19.2-py2.py3-none-any.whl.metadata (22 kB)\n",
            "Requirement already satisfied: decorator in /usr/local/lib/python3.11/dist-packages (from ipython>=5.3.0->pyvis) (4.4.2)\n",
            "Requirement already satisfied: pickleshare in /usr/local/lib/python3.11/dist-packages (from ipython>=5.3.0->pyvis) (0.7.5)\n",
            "Requirement already satisfied: traitlets>=4.2 in /usr/local/lib/python3.11/dist-packages (from ipython>=5.3.0->pyvis) (5.7.1)\n",
            "Requirement already satisfied: prompt-toolkit!=3.0.0,!=3.0.1,<3.1.0,>=2.0.0 in /usr/local/lib/python3.11/dist-packages (from ipython>=5.3.0->pyvis) (3.0.50)\n",
            "Requirement already satisfied: pygments in /usr/local/lib/python3.11/dist-packages (from ipython>=5.3.0->pyvis) (2.18.0)\n",
            "Requirement already satisfied: backcall in /usr/local/lib/python3.11/dist-packages (from ipython>=5.3.0->pyvis) (0.2.0)\n",
            "Requirement already satisfied: matplotlib-inline in /usr/local/lib/python3.11/dist-packages (from ipython>=5.3.0->pyvis) (0.1.7)\n",
            "Requirement already satisfied: pexpect>4.3 in /usr/local/lib/python3.11/dist-packages (from ipython>=5.3.0->pyvis) (4.9.0)\n",
            "Requirement already satisfied: MarkupSafe>=2.0 in /usr/local/lib/python3.11/dist-packages (from jinja2>=2.9.6->pyvis) (3.0.2)\n",
            "Requirement already satisfied: parso<0.9.0,>=0.8.4 in /usr/local/lib/python3.11/dist-packages (from jedi>=0.16->ipython>=5.3.0->pyvis) (0.8.4)\n",
            "Requirement already satisfied: ptyprocess>=0.5 in /usr/local/lib/python3.11/dist-packages (from pexpect>4.3->ipython>=5.3.0->pyvis) (0.7.0)\n",
            "Requirement already satisfied: wcwidth in /usr/local/lib/python3.11/dist-packages (from prompt-toolkit!=3.0.0,!=3.0.1,<3.1.0,>=2.0.0->ipython>=5.3.0->pyvis) (0.2.13)\n",
            "Downloading pyvis-0.3.2-py3-none-any.whl (756 kB)\n",
            "\u001b[2K   \u001b[90m━━━━━━━━━━━━━━━━━━━━━━━━━━━━━━━━━━━━━━━━\u001b[0m \u001b[32m756.0/756.0 kB\u001b[0m \u001b[31m18.5 MB/s\u001b[0m eta \u001b[36m0:00:00\u001b[0m\n",
            "\u001b[?25hDownloading jedi-0.19.2-py2.py3-none-any.whl (1.6 MB)\n",
            "\u001b[2K   \u001b[90m━━━━━━━━━━━━━━━━━━━━━━━━━━━━━━━━━━━━━━━━\u001b[0m \u001b[32m1.6/1.6 MB\u001b[0m \u001b[31m43.2 MB/s\u001b[0m eta \u001b[36m0:00:00\u001b[0m\n",
            "\u001b[?25hInstalling collected packages: jedi, pyvis\n",
            "Successfully installed jedi-0.19.2 pyvis-0.3.2\n",
            "Requirement already satisfied: youtube-transcript-api in /usr/local/lib/python3.11/dist-packages (1.0.3)\n",
            "Requirement already satisfied: defusedxml<0.8.0,>=0.7.1 in /usr/local/lib/python3.11/dist-packages (from youtube-transcript-api) (0.7.1)\n",
            "Requirement already satisfied: requests in /usr/local/lib/python3.11/dist-packages (from youtube-transcript-api) (2.32.3)\n",
            "Requirement already satisfied: charset-normalizer<4,>=2 in /usr/local/lib/python3.11/dist-packages (from requests->youtube-transcript-api) (3.4.1)\n",
            "Requirement already satisfied: idna<4,>=2.5 in /usr/local/lib/python3.11/dist-packages (from requests->youtube-transcript-api) (3.10)\n",
            "Requirement already satisfied: urllib3<3,>=1.21.1 in /usr/local/lib/python3.11/dist-packages (from requests->youtube-transcript-api) (2.3.0)\n",
            "Requirement already satisfied: certifi>=2017.4.17 in /usr/local/lib/python3.11/dist-packages (from requests->youtube-transcript-api) (2025.1.31)\n"
          ]
        }
      ]
    },
    {
      "cell_type": "markdown",
      "source": [
        "# API documentation\n",
        "구체적인 Youtube API[https://developers.google.com/youtube/v3] 다음 링크에 있는 문서를 참고하시기 바랍니다.\n",
        "\n",
        "API Reference\n",
        "https://developers.google.com/youtube/v3/docs"
      ],
      "metadata": {
        "id": "zVlIhE9iuZXQ"
      }
    },
    {
      "cell_type": "markdown",
      "source": [
        "## Query Template\n",
        "\n",
        "PYTHON API는 다음과 같이 api.(resources).(method) 형태로 구성된다.\n",
        "```\n",
        "# To perform list method on playlists resource\n",
        "request = youtube.playlists().list(\n",
        ")\n",
        "# To perform list method on videos resource\n",
        "request = youtube.videos().list(\n",
        ")\n",
        "# to perform list method on channels resource\n",
        "request = youtube.channels().list(\n",
        ")\n",
        "```"
      ],
      "metadata": {
        "id": "Uj0QRyQawBsV"
      }
    },
    {
      "cell_type": "markdown",
      "source": [
        "Search vs. Video resources\n",
        "\n",
        "Search resource: contains information about a Youtube video, channel or playlist that matches the search parameters specified in an API request\n",
        "\n",
        "Video resource: representes a Youtube Video"
      ],
      "metadata": {
        "id": "j4Y9bBbZwO3R"
      }
    },
    {
      "cell_type": "markdown",
      "source": [
        "Part parameter\n",
        "https://developers.google.com/youtube/v3/docs/search/list#parameters\n",
        "\n",
        "a comma-separated list of one or more search resource properties that the API response will include. Set the parameter value to snippet."
      ],
      "metadata": {
        "id": "1lhsMc_Mwh3e"
      }
    },
    {
      "cell_type": "code",
      "source": [
        "from google.colab import drive\n",
        "import json\n",
        "\n",
        "drive.mount('/content/drive')\n",
        "\n",
        "with open('/content/drive/MyDrive/Colab Notebooks/config.json') as f:\n",
        "    config = json.load(f)\n",
        "\n",
        "API_KEY = config[\"API_KEY\"]\n",
        "WIKI_API_KEY = config[\"WIKI_API_KEY\"]\n"
      ],
      "metadata": {
        "id": "cWf8ZcKZH5J1",
        "colab": {
          "base_uri": "https://localhost:8080/"
        },
        "outputId": "cf2f0343-dc0d-4130-801d-bef4fe4a2b25"
      },
      "execution_count": 2,
      "outputs": [
        {
          "output_type": "stream",
          "name": "stdout",
          "text": [
            "Drive already mounted at /content/drive; to attempt to forcibly remount, call drive.mount(\"/content/drive\", force_remount=True).\n"
          ]
        }
      ]
    },
    {
      "cell_type": "code",
      "source": [
        "# API client library\n",
        "import googleapiclient.discovery\n",
        "# API information\n",
        "api_service_name = \"youtube\"\n",
        "api_version = \"v3\"\n",
        "\n",
        "\n",
        "# API client\n",
        "youtube = googleapiclient.discovery.build(\n",
        "    api_service_name, api_version, developerKey = API_KEY)\n",
        "\n",
        "# 'request' variable is the only thing you must change\n",
        "# depending on the resource and method you need to use\n",
        "# in your query\n",
        "request = youtube.search().list(\n",
        "    part=\"id,snippet\",\n",
        "    type='video',\n",
        "    q=\"python 강의\",\n",
        "    videoDuration='medium',\n",
        "    videoDefinition='high',\n",
        "    maxResults= 6\n",
        ")\n",
        "\n",
        "# Query execution\n",
        "video_list = request.execute()\n",
        "\n",
        "# Print the results"
      ],
      "metadata": {
        "id": "sM-RT_DJu_f0",
        "collapsed": true
      },
      "execution_count": 3,
      "outputs": []
    },
    {
      "cell_type": "code",
      "source": [
        "tittle1 = video_list['items'][0]['snippet']['title']\n",
        "tittle2 = video_list['items'][1]['snippet']['title']\n",
        "tittle3 = video_list['items'][2]['snippet']['title']\n",
        "tittle4 = video_list['items'][3]['snippet']['title']\n",
        "tittle5 = video_list['items'][4]['snippet']['title']\n",
        "tittle6 = video_list['items'][5]['snippet']['title']\n",
        "print(tittle1)\n",
        "print(tittle2)\n",
        "print(tittle3)\n",
        "print(tittle4)\n",
        "print(tittle5)\n",
        "print(tittle6)"
      ],
      "metadata": {
        "id": "B-YuZpCKbzKw",
        "colab": {
          "base_uri": "https://localhost:8080/"
        },
        "outputId": "50432c97-8f74-4a56-8c2f-9fb812523816"
      },
      "execution_count": 4,
      "outputs": [
        {
          "output_type": "stream",
          "name": "stdout",
          "text": [
            "AI 시대 파이썬을 배워야 하는 이유\n",
            "Colab 시작하기 - Python 기초 강의, Python 시작하기\n",
            "파이썬(python) 설치와 실행, IDLE(아이들) 사용 방법\n",
            "[파이썬 기초 14강] 파이썬 클래스, 객체, 인스턴스, 생성자, 메서드, self 개념 총정리!! 정말 쉽게 설명해 드립니다.\n",
            "코딩 초보를 위한 파이썬 기초 강의 - 01. Python 소개 &amp; 기본 세팅 | Python for Beginners\n",
            "[중급자를 위한 Python] #1 강의소개\n"
          ]
        }
      ]
    },
    {
      "cell_type": "markdown",
      "source": [
        "### Youtube 자막 받아오기"
      ],
      "metadata": {
        "id": "3l8BwSCM6gty"
      }
    },
    {
      "cell_type": "code",
      "source": [
        "from youtube_transcript_api import YouTubeTranscriptApi\n",
        "\n",
        "# Youtube 자막 추출 함수\n",
        "def get_transcript(video_id, languages=['ko']):\n",
        "  transcript = YouTubeTranscriptApi.get_transcript(video_id, languages=['ko'])\n",
        "  full_transcript = ' '.join([item['text'] for item in transcript])\n",
        "  return full_transcript\n"
      ],
      "metadata": {
        "id": "YcVLrba1bucp",
        "collapsed": true
      },
      "execution_count": 5,
      "outputs": []
    },
    {
      "cell_type": "code",
      "source": [
        "# Video ID 추출\n",
        "video_id1 = video_list['items'][0]['id']['videoId']\n",
        "video_id2 = video_list['items'][1]['id']['videoId']\n",
        "video_id3 = video_list['items'][2]['id']['videoId']\n",
        "video_id4 = video_list['items'][3]['id']['videoId']\n",
        "video_id5 = video_list['items'][4]['id']['videoId']\n",
        "video_id6 = video_list['items'][5]['id']['videoId']\n",
        "\n",
        "# Youtube 영상의 자막 받아오기\n",
        "full_transcript1 = get_transcript(video_id1)\n",
        "full_transcript2 = get_transcript(video_id2)\n",
        "full_transcript3 = get_transcript(video_id3)\n",
        "full_transcript4 = get_transcript(video_id4)\n",
        "full_transcript5 = get_transcript(video_id5)\n",
        "full_transcript6 = get_transcript(video_id6)\n",
        "\n"
      ],
      "metadata": {
        "collapsed": true,
        "id": "3vvcYR42kVtQ",
        "colab": {
          "base_uri": "https://localhost:8080/",
          "height": 582
        },
        "outputId": "b8312b69-01ed-4e47-fc55-638325198bab"
      },
      "execution_count": 7,
      "outputs": [
        {
          "output_type": "error",
          "ename": "RequestBlocked",
          "evalue": "\nCould not retrieve a transcript for the video https://www.youtube.com/watch?v=7ttbyGI5igA! This is most likely caused by:\n\nYouTube is blocking requests from your IP. This usually is due to one of the following reasons:\n- You have done too many requests and your IP has been blocked by YouTube\n- You are doing requests from an IP belonging to a cloud provider (like AWS, Google Cloud Platform, Azure, etc.). Unfortunately, most IPs from cloud providers are blocked by YouTube.\n\nThere are two things you can do to work around this:\n1. Use proxies to hide your IP address, as explained in the \"Working around IP bans\" section of the README (https://github.com/jdepoix/youtube-transcript-api?tab=readme-ov-file#working-around-ip-bans-requestblocked-or-ipblocked-exception).\n2. (NOT RECOMMENDED) If you authenticate your requests using cookies, you will be able to continue doing requests for a while. However, YouTube will eventually permanently ban the account that you have used to authenticate with! So only do this if you don't mind your account being banned!\n\nIf you are sure that the described cause is not responsible for this error and that a transcript should be retrievable, please create an issue at https://github.com/jdepoix/youtube-transcript-api/issues. Please add which version of youtube_transcript_api you are using and provide the information needed to replicate the error. Also make sure that there are no open issues which already describe your problem!",
          "traceback": [
            "\u001b[0;31m---------------------------------------------------------------------------\u001b[0m",
            "\u001b[0;31mRequestBlocked\u001b[0m                            Traceback (most recent call last)",
            "\u001b[0;32m<ipython-input-7-60b0a341e79b>\u001b[0m in \u001b[0;36m<cell line: 0>\u001b[0;34m()\u001b[0m\n\u001b[1;32m      8\u001b[0m \u001b[0;34m\u001b[0m\u001b[0m\n\u001b[1;32m      9\u001b[0m \u001b[0;31m# Youtube 영상의 자막 받아오기\u001b[0m\u001b[0;34m\u001b[0m\u001b[0;34m\u001b[0m\u001b[0m\n\u001b[0;32m---> 10\u001b[0;31m \u001b[0mfull_transcript1\u001b[0m \u001b[0;34m=\u001b[0m \u001b[0mget_transcript\u001b[0m\u001b[0;34m(\u001b[0m\u001b[0mvideo_id1\u001b[0m\u001b[0;34m)\u001b[0m\u001b[0;34m\u001b[0m\u001b[0;34m\u001b[0m\u001b[0m\n\u001b[0m\u001b[1;32m     11\u001b[0m \u001b[0mfull_transcript2\u001b[0m \u001b[0;34m=\u001b[0m \u001b[0mget_transcript\u001b[0m\u001b[0;34m(\u001b[0m\u001b[0mvideo_id2\u001b[0m\u001b[0;34m)\u001b[0m\u001b[0;34m\u001b[0m\u001b[0;34m\u001b[0m\u001b[0m\n\u001b[1;32m     12\u001b[0m \u001b[0mfull_transcript3\u001b[0m \u001b[0;34m=\u001b[0m \u001b[0mget_transcript\u001b[0m\u001b[0;34m(\u001b[0m\u001b[0mvideo_id3\u001b[0m\u001b[0;34m)\u001b[0m\u001b[0;34m\u001b[0m\u001b[0;34m\u001b[0m\u001b[0m\n",
            "\u001b[0;32m<ipython-input-5-292ba33d22fe>\u001b[0m in \u001b[0;36mget_transcript\u001b[0;34m(video_id, languages)\u001b[0m\n\u001b[1;32m      3\u001b[0m \u001b[0;31m# Youtube 자막 추출 함수\u001b[0m\u001b[0;34m\u001b[0m\u001b[0;34m\u001b[0m\u001b[0m\n\u001b[1;32m      4\u001b[0m \u001b[0;32mdef\u001b[0m \u001b[0mget_transcript\u001b[0m\u001b[0;34m(\u001b[0m\u001b[0mvideo_id\u001b[0m\u001b[0;34m,\u001b[0m \u001b[0mlanguages\u001b[0m\u001b[0;34m=\u001b[0m\u001b[0;34m[\u001b[0m\u001b[0;34m'ko'\u001b[0m\u001b[0;34m]\u001b[0m\u001b[0;34m)\u001b[0m\u001b[0;34m:\u001b[0m\u001b[0;34m\u001b[0m\u001b[0;34m\u001b[0m\u001b[0m\n\u001b[0;32m----> 5\u001b[0;31m   \u001b[0mtranscript\u001b[0m \u001b[0;34m=\u001b[0m \u001b[0mYouTubeTranscriptApi\u001b[0m\u001b[0;34m.\u001b[0m\u001b[0mget_transcript\u001b[0m\u001b[0;34m(\u001b[0m\u001b[0mvideo_id\u001b[0m\u001b[0;34m,\u001b[0m \u001b[0mlanguages\u001b[0m\u001b[0;34m=\u001b[0m\u001b[0;34m[\u001b[0m\u001b[0;34m'ko'\u001b[0m\u001b[0;34m]\u001b[0m\u001b[0;34m)\u001b[0m\u001b[0;34m\u001b[0m\u001b[0;34m\u001b[0m\u001b[0m\n\u001b[0m\u001b[1;32m      6\u001b[0m   \u001b[0mfull_transcript\u001b[0m \u001b[0;34m=\u001b[0m \u001b[0;34m' '\u001b[0m\u001b[0;34m.\u001b[0m\u001b[0mjoin\u001b[0m\u001b[0;34m(\u001b[0m\u001b[0;34m[\u001b[0m\u001b[0mitem\u001b[0m\u001b[0;34m[\u001b[0m\u001b[0;34m'text'\u001b[0m\u001b[0;34m]\u001b[0m \u001b[0;32mfor\u001b[0m \u001b[0mitem\u001b[0m \u001b[0;32min\u001b[0m \u001b[0mtranscript\u001b[0m\u001b[0;34m]\u001b[0m\u001b[0;34m)\u001b[0m\u001b[0;34m\u001b[0m\u001b[0;34m\u001b[0m\u001b[0m\n\u001b[1;32m      7\u001b[0m   \u001b[0;32mreturn\u001b[0m \u001b[0mfull_transcript\u001b[0m\u001b[0;34m\u001b[0m\u001b[0;34m\u001b[0m\u001b[0m\n",
            "\u001b[0;32m/usr/local/lib/python3.11/dist-packages/youtube_transcript_api/_api.py\u001b[0m in \u001b[0;36mget_transcript\u001b[0;34m(cls, video_id, languages, proxies, cookies, preserve_formatting)\u001b[0m\n\u001b[1;32m    304\u001b[0m         \u001b[0;32massert\u001b[0m \u001b[0misinstance\u001b[0m\u001b[0;34m(\u001b[0m\u001b[0mvideo_id\u001b[0m\u001b[0;34m,\u001b[0m \u001b[0mstr\u001b[0m\u001b[0;34m)\u001b[0m\u001b[0;34m,\u001b[0m \u001b[0;34m\"`video_id` must be a string\"\u001b[0m\u001b[0;34m\u001b[0m\u001b[0;34m\u001b[0m\u001b[0m\n\u001b[1;32m    305\u001b[0m         return (\n\u001b[0;32m--> 306\u001b[0;31m             \u001b[0mcls\u001b[0m\u001b[0;34m.\u001b[0m\u001b[0mlist_transcripts\u001b[0m\u001b[0;34m(\u001b[0m\u001b[0mvideo_id\u001b[0m\u001b[0;34m,\u001b[0m \u001b[0mproxies\u001b[0m\u001b[0;34m,\u001b[0m \u001b[0mcookies\u001b[0m\u001b[0;34m)\u001b[0m\u001b[0;34m\u001b[0m\u001b[0;34m\u001b[0m\u001b[0m\n\u001b[0m\u001b[1;32m    307\u001b[0m             \u001b[0;34m.\u001b[0m\u001b[0mfind_transcript\u001b[0m\u001b[0;34m(\u001b[0m\u001b[0mlanguages\u001b[0m\u001b[0;34m)\u001b[0m\u001b[0;34m\u001b[0m\u001b[0;34m\u001b[0m\u001b[0m\n\u001b[1;32m    308\u001b[0m             \u001b[0;34m.\u001b[0m\u001b[0mfetch\u001b[0m\u001b[0;34m(\u001b[0m\u001b[0mpreserve_formatting\u001b[0m\u001b[0;34m=\u001b[0m\u001b[0mpreserve_formatting\u001b[0m\u001b[0;34m)\u001b[0m\u001b[0;34m\u001b[0m\u001b[0;34m\u001b[0m\u001b[0m\n",
            "\u001b[0;32m/usr/local/lib/python3.11/dist-packages/youtube_transcript_api/_api.py\u001b[0m in \u001b[0;36mlist_transcripts\u001b[0;34m(cls, video_id, proxies, cookies)\u001b[0m\n\u001b[1;32m    205\u001b[0m             \u001b[0mcookie_path\u001b[0m\u001b[0;34m=\u001b[0m\u001b[0mPath\u001b[0m\u001b[0;34m(\u001b[0m\u001b[0mcookies\u001b[0m\u001b[0;34m)\u001b[0m \u001b[0;32mif\u001b[0m \u001b[0mcookies\u001b[0m \u001b[0;32melse\u001b[0m \u001b[0;32mNone\u001b[0m\u001b[0;34m,\u001b[0m\u001b[0;34m\u001b[0m\u001b[0;34m\u001b[0m\u001b[0m\n\u001b[1;32m    206\u001b[0m         )\n\u001b[0;32m--> 207\u001b[0;31m         \u001b[0;32mreturn\u001b[0m \u001b[0mytt_api\u001b[0m\u001b[0;34m.\u001b[0m\u001b[0mlist\u001b[0m\u001b[0;34m(\u001b[0m\u001b[0mvideo_id\u001b[0m\u001b[0;34m)\u001b[0m\u001b[0;34m\u001b[0m\u001b[0;34m\u001b[0m\u001b[0m\n\u001b[0m\u001b[1;32m    208\u001b[0m \u001b[0;34m\u001b[0m\u001b[0m\n\u001b[1;32m    209\u001b[0m     \u001b[0;34m@\u001b[0m\u001b[0mclassmethod\u001b[0m\u001b[0;34m\u001b[0m\u001b[0;34m\u001b[0m\u001b[0m\n",
            "\u001b[0;32m/usr/local/lib/python3.11/dist-packages/youtube_transcript_api/_api.py\u001b[0m in \u001b[0;36mlist\u001b[0;34m(self, video_id)\u001b[0m\n\u001b[1;32m    133\u001b[0m             \u001b[0mMake\u001b[0m \u001b[0msure\u001b[0m \u001b[0mthat\u001b[0m \u001b[0mthis\u001b[0m \u001b[0;32mis\u001b[0m \u001b[0mthe\u001b[0m \u001b[0mactual\u001b[0m \u001b[0mID\u001b[0m\u001b[0;34m,\u001b[0m \u001b[0mNOT\u001b[0m \u001b[0mthe\u001b[0m \u001b[0mfull\u001b[0m \u001b[0mURL\u001b[0m \u001b[0mto\u001b[0m \u001b[0mthe\u001b[0m \u001b[0mvideo\u001b[0m\u001b[0;31m!\u001b[0m\u001b[0;34m\u001b[0m\u001b[0;34m\u001b[0m\u001b[0m\n\u001b[1;32m    134\u001b[0m         \"\"\"\n\u001b[0;32m--> 135\u001b[0;31m         \u001b[0;32mreturn\u001b[0m \u001b[0mself\u001b[0m\u001b[0;34m.\u001b[0m\u001b[0m_fetcher\u001b[0m\u001b[0;34m.\u001b[0m\u001b[0mfetch\u001b[0m\u001b[0;34m(\u001b[0m\u001b[0mvideo_id\u001b[0m\u001b[0;34m)\u001b[0m\u001b[0;34m\u001b[0m\u001b[0;34m\u001b[0m\u001b[0m\n\u001b[0m\u001b[1;32m    136\u001b[0m \u001b[0;34m\u001b[0m\u001b[0m\n\u001b[1;32m    137\u001b[0m     \u001b[0;34m@\u001b[0m\u001b[0mclassmethod\u001b[0m\u001b[0;34m\u001b[0m\u001b[0;34m\u001b[0m\u001b[0m\n",
            "\u001b[0;32m/usr/local/lib/python3.11/dist-packages/youtube_transcript_api/_transcripts.py\u001b[0m in \u001b[0;36mfetch\u001b[0;34m(self, video_id)\u001b[0m\n\u001b[1;32m    350\u001b[0m             \u001b[0mself\u001b[0m\u001b[0;34m.\u001b[0m\u001b[0m_http_client\u001b[0m\u001b[0;34m,\u001b[0m\u001b[0;34m\u001b[0m\u001b[0;34m\u001b[0m\u001b[0m\n\u001b[1;32m    351\u001b[0m             \u001b[0mvideo_id\u001b[0m\u001b[0;34m,\u001b[0m\u001b[0;34m\u001b[0m\u001b[0;34m\u001b[0m\u001b[0m\n\u001b[0;32m--> 352\u001b[0;31m             \u001b[0mself\u001b[0m\u001b[0;34m.\u001b[0m\u001b[0m_fetch_captions_json\u001b[0m\u001b[0;34m(\u001b[0m\u001b[0mvideo_id\u001b[0m\u001b[0;34m)\u001b[0m\u001b[0;34m,\u001b[0m\u001b[0;34m\u001b[0m\u001b[0;34m\u001b[0m\u001b[0m\n\u001b[0m\u001b[1;32m    353\u001b[0m         )\n\u001b[1;32m    354\u001b[0m \u001b[0;34m\u001b[0m\u001b[0m\n",
            "\u001b[0;32m/usr/local/lib/python3.11/dist-packages/youtube_transcript_api/_transcripts.py\u001b[0m in \u001b[0;36m_fetch_captions_json\u001b[0;34m(self, video_id, try_number)\u001b[0m\n\u001b[1;32m    366\u001b[0m             \u001b[0;32mif\u001b[0m \u001b[0mtry_number\u001b[0m \u001b[0;34m+\u001b[0m \u001b[0;36m1\u001b[0m \u001b[0;34m<\u001b[0m \u001b[0mretries\u001b[0m\u001b[0;34m:\u001b[0m\u001b[0;34m\u001b[0m\u001b[0;34m\u001b[0m\u001b[0m\n\u001b[1;32m    367\u001b[0m                 \u001b[0;32mreturn\u001b[0m \u001b[0mself\u001b[0m\u001b[0;34m.\u001b[0m\u001b[0m_fetch_captions_json\u001b[0m\u001b[0;34m(\u001b[0m\u001b[0mvideo_id\u001b[0m\u001b[0;34m,\u001b[0m \u001b[0mtry_number\u001b[0m\u001b[0;34m=\u001b[0m\u001b[0mtry_number\u001b[0m \u001b[0;34m+\u001b[0m \u001b[0;36m1\u001b[0m\u001b[0;34m)\u001b[0m\u001b[0;34m\u001b[0m\u001b[0;34m\u001b[0m\u001b[0m\n\u001b[0;32m--> 368\u001b[0;31m             \u001b[0;32mraise\u001b[0m \u001b[0mexception\u001b[0m\u001b[0;34m.\u001b[0m\u001b[0mwith_proxy_config\u001b[0m\u001b[0;34m(\u001b[0m\u001b[0mself\u001b[0m\u001b[0;34m.\u001b[0m\u001b[0m_proxy_config\u001b[0m\u001b[0;34m)\u001b[0m\u001b[0;34m\u001b[0m\u001b[0;34m\u001b[0m\u001b[0m\n\u001b[0m\u001b[1;32m    369\u001b[0m \u001b[0;34m\u001b[0m\u001b[0m\n\u001b[1;32m    370\u001b[0m     \u001b[0;32mdef\u001b[0m \u001b[0m_extract_captions_json\u001b[0m\u001b[0;34m(\u001b[0m\u001b[0mself\u001b[0m\u001b[0;34m,\u001b[0m \u001b[0mhtml\u001b[0m\u001b[0;34m:\u001b[0m \u001b[0mstr\u001b[0m\u001b[0;34m,\u001b[0m \u001b[0mvideo_id\u001b[0m\u001b[0;34m:\u001b[0m \u001b[0mstr\u001b[0m\u001b[0;34m)\u001b[0m \u001b[0;34m->\u001b[0m \u001b[0mDict\u001b[0m\u001b[0;34m:\u001b[0m\u001b[0;34m\u001b[0m\u001b[0;34m\u001b[0m\u001b[0m\n",
            "\u001b[0;32m/usr/local/lib/python3.11/dist-packages/youtube_transcript_api/_transcripts.py\u001b[0m in \u001b[0;36m_fetch_captions_json\u001b[0;34m(self, video_id, try_number)\u001b[0m\n\u001b[1;32m    355\u001b[0m     \u001b[0;32mdef\u001b[0m \u001b[0m_fetch_captions_json\u001b[0m\u001b[0;34m(\u001b[0m\u001b[0mself\u001b[0m\u001b[0;34m,\u001b[0m \u001b[0mvideo_id\u001b[0m\u001b[0;34m:\u001b[0m \u001b[0mstr\u001b[0m\u001b[0;34m,\u001b[0m \u001b[0mtry_number\u001b[0m\u001b[0;34m:\u001b[0m \u001b[0mint\u001b[0m \u001b[0;34m=\u001b[0m \u001b[0;36m0\u001b[0m\u001b[0;34m)\u001b[0m \u001b[0;34m->\u001b[0m \u001b[0mDict\u001b[0m\u001b[0;34m:\u001b[0m\u001b[0;34m\u001b[0m\u001b[0;34m\u001b[0m\u001b[0m\n\u001b[1;32m    356\u001b[0m         \u001b[0;32mtry\u001b[0m\u001b[0;34m:\u001b[0m\u001b[0;34m\u001b[0m\u001b[0;34m\u001b[0m\u001b[0m\n\u001b[0;32m--> 357\u001b[0;31m             return self._extract_captions_json(\n\u001b[0m\u001b[1;32m    358\u001b[0m                 \u001b[0mself\u001b[0m\u001b[0;34m.\u001b[0m\u001b[0m_fetch_video_html\u001b[0m\u001b[0;34m(\u001b[0m\u001b[0mvideo_id\u001b[0m\u001b[0;34m)\u001b[0m\u001b[0;34m,\u001b[0m \u001b[0mvideo_id\u001b[0m\u001b[0;34m\u001b[0m\u001b[0;34m\u001b[0m\u001b[0m\n\u001b[1;32m    359\u001b[0m             )\n",
            "\u001b[0;32m/usr/local/lib/python3.11/dist-packages/youtube_transcript_api/_transcripts.py\u001b[0m in \u001b[0;36m_extract_captions_json\u001b[0;34m(self, html, video_id)\u001b[0m\n\u001b[1;32m    378\u001b[0m             \u001b[0;32mraise\u001b[0m \u001b[0me\u001b[0m  \u001b[0;31m# pragma: no cover\u001b[0m\u001b[0;34m\u001b[0m\u001b[0;34m\u001b[0m\u001b[0m\n\u001b[1;32m    379\u001b[0m \u001b[0;34m\u001b[0m\u001b[0m\n\u001b[0;32m--> 380\u001b[0;31m         \u001b[0mself\u001b[0m\u001b[0;34m.\u001b[0m\u001b[0m_assert_playability\u001b[0m\u001b[0;34m(\u001b[0m\u001b[0mvideo_data\u001b[0m\u001b[0;34m.\u001b[0m\u001b[0mget\u001b[0m\u001b[0;34m(\u001b[0m\u001b[0;34m\"playabilityStatus\"\u001b[0m\u001b[0;34m)\u001b[0m\u001b[0;34m,\u001b[0m \u001b[0mvideo_id\u001b[0m\u001b[0;34m)\u001b[0m\u001b[0;34m\u001b[0m\u001b[0;34m\u001b[0m\u001b[0m\n\u001b[0m\u001b[1;32m    381\u001b[0m \u001b[0;34m\u001b[0m\u001b[0m\n\u001b[1;32m    382\u001b[0m         captions_json = video_data.get(\"captions\", {}).get(\n",
            "\u001b[0;32m/usr/local/lib/python3.11/dist-packages/youtube_transcript_api/_transcripts.py\u001b[0m in \u001b[0;36m_assert_playability\u001b[0;34m(self, playability_status_data, video_id)\u001b[0m\n\u001b[1;32m    397\u001b[0m             \u001b[0;32mif\u001b[0m \u001b[0mplayability_status\u001b[0m \u001b[0;34m==\u001b[0m \u001b[0m_PlayabilityStatus\u001b[0m\u001b[0;34m.\u001b[0m\u001b[0mLOGIN_REQUIRED\u001b[0m\u001b[0;34m.\u001b[0m\u001b[0mvalue\u001b[0m\u001b[0;34m:\u001b[0m\u001b[0;34m\u001b[0m\u001b[0;34m\u001b[0m\u001b[0m\n\u001b[1;32m    398\u001b[0m                 \u001b[0;32mif\u001b[0m \u001b[0mreason\u001b[0m \u001b[0;34m==\u001b[0m \u001b[0m_PlayabilityFailedReason\u001b[0m\u001b[0;34m.\u001b[0m\u001b[0mBOT_DETECTED\u001b[0m\u001b[0;34m.\u001b[0m\u001b[0mvalue\u001b[0m\u001b[0;34m:\u001b[0m\u001b[0;34m\u001b[0m\u001b[0;34m\u001b[0m\u001b[0m\n\u001b[0;32m--> 399\u001b[0;31m                     \u001b[0;32mraise\u001b[0m \u001b[0mRequestBlocked\u001b[0m\u001b[0;34m(\u001b[0m\u001b[0mvideo_id\u001b[0m\u001b[0;34m)\u001b[0m\u001b[0;34m\u001b[0m\u001b[0;34m\u001b[0m\u001b[0m\n\u001b[0m\u001b[1;32m    400\u001b[0m                 \u001b[0;32mif\u001b[0m \u001b[0mreason\u001b[0m \u001b[0;34m==\u001b[0m \u001b[0m_PlayabilityFailedReason\u001b[0m\u001b[0;34m.\u001b[0m\u001b[0mAGE_RESTRICTED\u001b[0m\u001b[0;34m.\u001b[0m\u001b[0mvalue\u001b[0m\u001b[0;34m:\u001b[0m\u001b[0;34m\u001b[0m\u001b[0;34m\u001b[0m\u001b[0m\n\u001b[1;32m    401\u001b[0m                     \u001b[0;32mraise\u001b[0m \u001b[0mAgeRestricted\u001b[0m\u001b[0;34m(\u001b[0m\u001b[0mvideo_id\u001b[0m\u001b[0;34m)\u001b[0m\u001b[0;34m\u001b[0m\u001b[0;34m\u001b[0m\u001b[0m\n",
            "\u001b[0;31mRequestBlocked\u001b[0m: \nCould not retrieve a transcript for the video https://www.youtube.com/watch?v=7ttbyGI5igA! This is most likely caused by:\n\nYouTube is blocking requests from your IP. This usually is due to one of the following reasons:\n- You have done too many requests and your IP has been blocked by YouTube\n- You are doing requests from an IP belonging to a cloud provider (like AWS, Google Cloud Platform, Azure, etc.). Unfortunately, most IPs from cloud providers are blocked by YouTube.\n\nThere are two things you can do to work around this:\n1. Use proxies to hide your IP address, as explained in the \"Working around IP bans\" section of the README (https://github.com/jdepoix/youtube-transcript-api?tab=readme-ov-file#working-around-ip-bans-requestblocked-or-ipblocked-exception).\n2. (NOT RECOMMENDED) If you authenticate your requests using cookies, you will be able to continue doing requests for a while. However, YouTube will eventually permanently ban the account that you have used to authenticate with! So only do this if you don't mind your account being banned!\n\nIf you are sure that the described cause is not responsible for this error and that a transcript should be retrievable, please create an issue at https://github.com/jdepoix/youtube-transcript-api/issues. Please add which version of youtube_transcript_api you are using and provide the information needed to replicate the error. Also make sure that there are no open issues which already describe your problem!"
          ]
        }
      ]
    },
    {
      "cell_type": "markdown",
      "source": [
        "Wikipedia API를 이용하여 관련 키워드 추출"
      ],
      "metadata": {
        "id": "23Li0f1YAPSN"
      }
    },
    {
      "cell_type": "code",
      "source": [
        "import requests\n",
        "import json\n",
        "\n",
        "# API 정보\n",
        "url = 'http://www.wikifier.org/annotate-article'\n",
        "\n",
        "params1 = {\n",
        "    'text': full_transcript1,\n",
        "    'lang': 'ko',\n",
        "    'userKey': WIKI_API_KEY,\n",
        "    'pageRankSqThreshold': 0.8,\n",
        "    'applyPageRankSqThreshold': 'true',\n",
        "    'nTopDfValuesToIgnore': 100,\n",
        "    'nWordsToIgnoreFromList': 100\n",
        "}\n",
        "\n",
        "response1 = requests.post(url, data=params1)\n",
        "wikis1 = response1.json()\n",
        "\n",
        "params2 = {\n",
        "    'text': full_transcript2,\n",
        "    'lang': 'ko',\n",
        "    'userKey': WIKI_API_KEY,\n",
        "    'pageRankSqThreshold': 0.8,\n",
        "    'applyPageRankSqThreshold': 'true',\n",
        "    'nTopDfValuesToIgnore': 100,\n",
        "    'nWordsToIgnoreFromList': 100\n",
        "}\n",
        "\n",
        "response2 = requests.post(url, data=params2)\n",
        "wikis2 = response2.json()\n",
        "\n",
        "params3 = {\n",
        "    'text': full_transcript3,\n",
        "    'lang': 'ko',\n",
        "    'userKey': WIKI_API_KEY,\n",
        "    'pageRankSqThreshold': 0.8,\n",
        "    'applyPageRankSqThreshold': 'true',\n",
        "    'nTopDfValuesToIgnore': 100,\n",
        "    'nWordsToIgnoreFromList': 100\n",
        "}\n",
        "\n",
        "response3 = requests.post(url, data=params3)\n",
        "wikis3 = response3.json()\n",
        "\n",
        "params4 = {\n",
        "    'text': full_transcript4,\n",
        "    'lang': 'ko',\n",
        "    'userKey': WIKI_API_KEY,\n",
        "    'pageRankSqThreshold': 0.8,\n",
        "    'applyPageRankSqThreshold': 'true',\n",
        "    'nTopDfValuesToIgnore': 100,\n",
        "    'nWordsToIgnoreFromList': 100\n",
        "}\n",
        "\n",
        "response4 = requests.post(url, data=params4)\n",
        "wikis4 = response4.json()\n",
        "\n",
        "params5 = {\n",
        "    'text': full_transcript5,\n",
        "    'lang': 'ko',\n",
        "    'userKey': WIKI_API_KEY,\n",
        "    'pageRankSqThreshold': 0.8,\n",
        "    'applyPageRankSqThreshold': 'true',\n",
        "    'nTopDfValuesToIgnore': 100,\n",
        "    'nWordsToIgnoreFromList': 100\n",
        "}\n",
        "\n",
        "response5 = requests.post(url, data=params5)\n",
        "wikis5 = response5.json()\n",
        "\n",
        "params6 = {\n",
        "    'text': full_transcript6,\n",
        "    'lang': 'ko',\n",
        "    'userKey': WIKI_API_KEY,\n",
        "    'pageRankSqThreshold': 0.8,\n",
        "    'applyPageRankSqThreshold': 'true',\n",
        "    'nTopDfValuesToIgnore': 100,\n",
        "    'nWordsToIgnoreFromList': 100\n",
        "}\n",
        "\n",
        "response6 = requests.post(url, data=params6)\n",
        "wikis6 = response6.json()"
      ],
      "metadata": {
        "id": "4x0xNXLnD0fd",
        "collapsed": true
      },
      "execution_count": null,
      "outputs": []
    },
    {
      "cell_type": "code",
      "source": [
        "keywords1 = set()\n",
        "for d in wikis1['ranges']:\n",
        "  for candidate in d['candidates']:\n",
        "    if candidate['cosine'] > 0.05:\n",
        "      keywords1.add(candidate['title'])\n",
        "\n",
        "keywords2 = set()\n",
        "for d in wikis2['ranges']:\n",
        "  for candidate in d['candidates']:\n",
        "    if candidate['cosine'] > 0.05:\n",
        "      keywords2.add(candidate['title'])\n",
        "\n",
        "keywords3 = set()\n",
        "for d in wikis3['ranges']:\n",
        "  for candidate in d['candidates']:\n",
        "    if candidate['cosine'] > 0.05:\n",
        "      keywords3.add(candidate['title'])\n",
        "\n",
        "keywords4 = set()\n",
        "for d in wikis4['ranges']:\n",
        "  for candidate in d['candidates']:\n",
        "    if candidate['cosine'] > 0.05:\n",
        "      keywords4.add(candidate['title'])\n",
        "\n",
        "keywords5 = set()\n",
        "for d in wikis5['ranges']:\n",
        "  for candidate in d['candidates']:\n",
        "    if candidate['cosine'] > 0.05:\n",
        "      keywords5.add(candidate['title'])\n",
        "\n",
        "keywords6 = set()\n",
        "for d in wikis6['ranges']:\n",
        "  for candidate in d['candidates']:\n",
        "    if candidate['cosine'] > 0.05:\n",
        "      keywords6.add(candidate['title'])"
      ],
      "metadata": {
        "id": "UrIKWPikBSDI"
      },
      "execution_count": null,
      "outputs": []
    },
    {
      "cell_type": "markdown",
      "source": [
        "#### Exercise\n",
        "영상 간 공통 키워드를 연결하는 네트워크 그래프를 만들기\n",
        "1. N개 유튜브 강의에 대해 대표 키워드 세트 정의\n",
        "2. 영상 2개씩 조합하여 공통 키워드 추출\n",
        "3. 공통 키워드가 있으면 NetworkX를 이용해 연결\n",
        "4. 엣지 라벨로 공통 키워드 표시, 노드는 영상 제목 표시"
      ],
      "metadata": {
        "id": "OCVoMPYh068o"
      }
    },
    {
      "cell_type": "code",
      "source": [
        "!sudo apt-get install -y fonts-nanum\n",
        "!sudo fc-cache -fv\n",
        "!rm ~/.cache/matplotlib -rf\n",
        "\n",
        "# 1. 한글 폰트 설치 (나눔고딕)\n",
        "import matplotlib.pyplot as plt\n",
        "import matplotlib.font_manager as fm\n",
        "import matplotlib\n",
        "import networkx as nx\n",
        "from itertools import combinations\n",
        "\n",
        "# 2. Colab 런타임에 폰트 적용\n",
        "plt.rc('font', family='NanumBarunGothic')\n",
        "plt.rcParams['axes.unicode_minus'] = False\n",
        "\n",
        "# 3. 영상별 키워드 예시\n",
        "# 추출한 것으로 수정 필요!\n",
        "video_keywords = {\n",
        "    tittle1 : keywords1,\n",
        "    tittle2 : keywords2,\n",
        "    tittle3 : keywords3,\n",
        "    tittle4 : keywords4,\n",
        "    tittle5 : keywords5,\n",
        "    tittle6 : keywords6\n",
        "}\n",
        "\n",
        "# 4. NetworkX 그래프 생성\n",
        "G = nx.Graph()\n",
        "G.add_nodes_from(video_keywords.keys())\n",
        "\n",
        "for vid1, vid2 in combinations(video_keywords.keys(), 2):\n",
        "    shared = video_keywords[vid1] & video_keywords[vid2]\n",
        "    if shared:\n",
        "        G.add_edge(vid1, vid2, weight=len(shared), label=\", \".join(shared))\n",
        "\n",
        "# 5. 시각화\n",
        "pos = nx.spring_layout(G, seed=42)\n",
        "\n",
        "plt.figure(figsize=(10, 6))\n",
        "nx.draw_networkx_nodes(G, pos, node_size=1000, node_color=\"lightyellow\")\n",
        "nx.draw_networkx_labels(G, pos, font_size=12, font_family='NanumBarunGothic')\n",
        "nx.draw_networkx_edges(G, pos, width=2)\n",
        "\n",
        "# edge label 표시\n",
        "edge_labels = nx.get_edge_attributes(G, \"label\")\n",
        "nx.draw_networkx_edge_labels(G, pos, edge_labels=edge_labels, font_size=10, font_family='NanumBarunGothic')\n",
        "\n",
        "plt.title(\"유튜브 영상 간 공통 키워드 네트워크 \", fontsize=14)\n",
        "plt.axis(\"off\")\n",
        "plt.show()"
      ],
      "metadata": {
        "id": "cSbo0AuLb0bm"
      },
      "execution_count": null,
      "outputs": []
    },
    {
      "cell_type": "markdown",
      "source": [],
      "metadata": {
        "id": "-T9f637Me-e8"
      }
    },
    {
      "cell_type": "code",
      "source": [
        "from pyvis.network import Network\n",
        "from IPython.core.display import display, HTML\n",
        "from itertools import combinations\n",
        "\n",
        "# pyvis 네트워크 생성\n",
        "net = Network(height=\"750px\", width=\"100%\", notebook=True, cdn_resources=\"in_line\")\n",
        "\n",
        "# 노드 간 간격 설정\n",
        "net.repulsion(\n",
        "    node_distance=350,\n",
        "    central_gravity=0.1,\n",
        "    spring_length=200,\n",
        "    spring_strength=0.01,\n",
        "    damping=0.09\n",
        ")\n",
        "\n",
        "# 노드 추가 (영상 제목을 노드 내부에 표시)\n",
        "for title in video_keywords.keys():\n",
        "    net.add_node(\n",
        "        title,\n",
        "        label=title,\n",
        "        size=40,\n",
        "        font={'size': 18}\n",
        "    )\n",
        "\n",
        "# 엣지 추가 (굵기와 키워드 글씨 크기 통일)\n",
        "for vid1, vid2 in combinations(video_keywords.keys(), 2):\n",
        "    shared_keywords = list(video_keywords[vid1] & video_keywords[vid2])\n",
        "    if shared_keywords:\n",
        "        full_keywords_text = \", \".join(shared_keywords)\n",
        "        preview_keywords = \", \".join(shared_keywords[:3])\n",
        "        if len(shared_keywords) > 3:\n",
        "            preview_keywords += f\" 외 +{len(shared_keywords) - 3}\"\n",
        "\n",
        "        net.add_edge(\n",
        "            vid1,\n",
        "            vid2,\n",
        "            title=full_keywords_text,       # 마우스 오버 툴팁\n",
        "            label=preview_keywords,         # 엣지에 표시될 키워드\n",
        "            width=2,                        # 엣지 굵기 통일\n",
        "            font={'size': 15}               # 키워드 글자 크기 통일\n",
        "        )\n",
        "\n",
        "# 시각화 결과 출력\n",
        "html_filename = \"youtube_keywords_network.html\"\n",
        "net.show(html_filename)"
      ],
      "metadata": {
        "id": "Nv-n7m65qwyK"
      },
      "execution_count": null,
      "outputs": []
    },
    {
      "cell_type": "markdown",
      "source": [
        "[인터랙티브 네트워크 그래프 보기](https://realp0tato.github.io/oss2025/youtube_keywords_network.html)"
      ],
      "metadata": {
        "id": "qpAMBsidnNW2"
      }
    }
  ]
}